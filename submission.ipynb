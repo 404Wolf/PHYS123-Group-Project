{
 "cells": [
  {
   "cell_type": "markdown",
   "metadata": {},
   "source": [
    "## PHYS123 Group Homework Project\n",
    "### Wolf Mermelstein, Sara Elanchezhian, Mathew Gummere\n",
    "### December 2, 2023"
   ]
  },
  {
   "cell_type": "markdown",
   "metadata": {},
   "source": [
    "# Part G1\n",
    "\n",
    "Calculating and plotting the recursively defined function\n",
    "$$x_{n+1} = R x_n (1 - x_n)$$"
   ]
  },
  {
   "cell_type": "code",
   "execution_count": null,
   "metadata": {},
   "outputs": [],
   "source": [
    "from numpy import np\n",
    "\n",
    "\"\"\"\n",
    "Generator that continuously yields logistics equation values at x_0 for some growth rate R.\n",
    "\n",
    "Args:\n",
    "    R: The growth rate.\n",
    "    x_0: The initial x value.\n",
    "\n",
    "Yields:\n",
    "    The next value of the logistics equation.\n",
    "\"\"\"\n",
    "def compute_logistics_equation_values(R: float, x_0):\n",
    "    x_prev = x_0\n",
    "    while True:\n",
    "        x_prev = R * x_prev * (1 - x_prev)\n",
    "        yield x_prev\n",
    "\n",
    "# Define parameter values to use\n",
    "R = 3.4\n",
    "x_0 = 0.4\n",
    "N = 100\n",
    "\n",
    "# Compute values\n",
    "x_values = np.fromiter(compute_logistics_equation_values(R, x_0), float, count=N)\n",
    "iteration_counts = np.arange(N)\n",
    "\n",
    "\n",
    "# Construct the plot\n",
    "plt.figure(figsize=(10, 6))\n",
    "plt.plot(iteration_counts, x_values, marker='o', linestyle='-', color='b')\n",
    "plt.title(f'Logistic Equation (r={R}, x0={x_0})')\n",
    "plt.xlabel('Iteration')\n",
    "plt.ylabel('x')\n",
    "plt.grid(True)\n",
    "plt.show()"
   ]
  }
 ],
 "metadata": {
  "kernelspec": {
   "display_name": "Python 3 (ipykernel)",
   "language": "python",
   "name": "python3"
  },
  "language_info": {
   "codemirror_mode": {
    "name": "ipython",
    "version": 3
   },
   "file_extension": ".py",
   "mimetype": "text/x-python",
   "name": "python",
   "nbconvert_exporter": "python",
   "pygments_lexer": "ipython3",
   "version": "3.11.5"
  }
 },
 "nbformat": 4,
 "nbformat_minor": 4
}
